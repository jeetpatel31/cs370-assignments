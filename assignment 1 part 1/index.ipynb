{
  "cells": [
    {
      "cell_type": "markdown",
      "metadata": {
        "id": "R7kkQEObQ0V3"
      },
      "source": [
        "# Assignment 1  \n",
        "\n",
        "For the exercises below you can use the numpy and scipy libraries."
      ]
    },
    {
      "cell_type": "markdown",
      "metadata": {
        "id": "w0ghMniWQ0V8"
      },
      "source": [
        "## Problem 1: Simulation (20 points)\n",
        "\n",
        "Review any of the probability theory links [provided in your course site](https://pantelis.github.io/artificial-intelligence/aiml-common/lectures/ml-math/probability/index.html). The exercise refers to Example 6.6 of the  [Math for ML book](https://mml-book.github.io/book/mml-book.pdf).\n",
        "\n",
        "### Problem 1A (15 points)\n",
        "\n",
        "Simulate (sample from) the bivariate normal distribution with the shown parameters obtaining a plot similar to Figure 6.8b that shows the simulation result from a different bivariate Gaussian distribution.  You can generate $m=200$ samples/points (10 points)\n",
        "\n",
        "### Problem 1B (5 points)\n",
        "\n",
        "Plot the contours of the bivariate Gaussian distribution and the simulated points in the same plot. (5 points)"
      ]
    },
    {
      "cell_type": "code",
      "execution_count": 1,
      "metadata": {
        "id": "EY8if4oQQ0V-"
      },
      "outputs": [
        {
          "ename": "ModuleNotFoundError",
          "evalue": "No module named 'matplotlib'",
          "output_type": "error",
          "traceback": [
            "\u001b[1;31m---------------------------------------------------------------------------\u001b[0m",
            "\u001b[1;31mModuleNotFoundError\u001b[0m                       Traceback (most recent call last)",
            "Cell \u001b[1;32mIn[1], line 4\u001b[0m\n\u001b[0;32m      1\u001b[0m \u001b[38;5;66;03m# Insert your answer here and fee free to add markdown cells as needed\u001b[39;00m\n\u001b[0;32m      3\u001b[0m \u001b[38;5;28;01mimport\u001b[39;00m \u001b[38;5;21;01mnumpy\u001b[39;00m \u001b[38;5;28;01mas\u001b[39;00m \u001b[38;5;21;01mnp\u001b[39;00m\n\u001b[1;32m----> 4\u001b[0m \u001b[38;5;28;01mimport\u001b[39;00m \u001b[38;5;21;01mmatplotlib\u001b[39;00m\u001b[38;5;21;01m.\u001b[39;00m\u001b[38;5;21;01mpyplot\u001b[39;00m \u001b[38;5;28;01mas\u001b[39;00m \u001b[38;5;21;01mplt\u001b[39;00m\n\u001b[0;32m      5\u001b[0m \u001b[38;5;28;01mfrom\u001b[39;00m \u001b[38;5;21;01mscipy\u001b[39;00m\u001b[38;5;21;01m.\u001b[39;00m\u001b[38;5;21;01mstats\u001b[39;00m \u001b[38;5;28;01mimport\u001b[39;00m multivariate_normal\n\u001b[0;32m      7\u001b[0m \u001b[38;5;66;03m# Number of samples\u001b[39;00m\n",
            "\u001b[1;31mModuleNotFoundError\u001b[0m: No module named 'matplotlib'"
          ]
        }
      ],
      "source": [
        "# Insert your answer here and fee free to add markdown cells as needed\n",
        "\n",
        "import numpy as np\n",
        "import matplotlib.pyplot as plt\n",
        "from scipy.stats import multivariate_normal\n",
        "\n",
        "# Number of samples\n",
        "m = 200\n",
        "\n",
        "# Assuming mean and covariance for demonstration (replace with actual values)\n",
        "mean = [0, 0]  # Placeholder mean\n",
        "cov = [[1, 0.5], [0.5, 1]]  # Placeholder covariance matrix\n",
        "\n",
        "# Generate m samples from the bivariate normal distribution\n",
        "samples = np.random.multivariate_normal(mean, cov, m)\n",
        "\n",
        "# Create a grid of points for plotting the contours\n",
        "x, y = np.mgrid[-3:3:.01, -3:3:.01]\n",
        "pos = np.dstack((x, y))\n",
        "\n",
        "# Calculate the probability density function over the grid\n",
        "rv = multivariate_normal(mean, cov)\n",
        "pdf = rv.pdf(pos)\n",
        "\n",
        "# Plot the samples and the contours\n",
        "plt.figure(figsize=(8, 8))\n",
        "plt.scatter(samples[:, 0], samples[:, 1], label='Sample')\n",
        "plt.contour(x, y, pdf, colors='black')\n",
        "\n",
        "# Mark the mean\n",
        "plt.plot(mean[0], mean[1], 'rx', label='Mean')\n",
        "\n",
        "# Final plot decorations\n",
        "plt.title('Bivariate Gaussian distribution with samples')\n",
        "plt.xlabel('X1')\n",
        "plt.ylabel('X2')\n",
        "plt.legend()\n",
        "plt.grid(True)\n",
        "plt.show()\n"
      ]
    },
    {
      "cell_type": "markdown",
      "metadata": {
        "id": "oeNMaFYXQ0WA"
      },
      "source": [
        "## Problem 2: Projection (20 points)\n",
        "\n",
        "You may want to review these [linear algebra](https://www.youtube.com/playlist?list=PLZHQObOWTQDPD3MizzM2xVFitgF8hE_ab) videos or the [other linear algebra links](https://pantelis.github.io/artificial-intelligence/aiml-common/lectures/ml-math/linear-algebra/index.html) provided in your course site.\n",
        "\n",
        "Simulate a 3-dimensional (3d) Gaussian random vector with the following covariance matrix.\n",
        "\n",
        "$$\n",
        "\\begin{bmatrix}\n",
        "4 & 2 & 1 \\\\\n",
        "2 & 3 & 1.5 \\\\\n",
        "1 & 1.5 & 2 \\\\\n",
        "\\end{bmatrix}\n",
        "$$\n",
        "\n",
        "Using the Singular Value Decomposition (SVD) compute the projection of the simulated vectors onto the subspace spanned by the first two principal components.\n",
        "\n",
        "### Problem 2A (5 points)\n",
        "\n",
        "What determines the principal components ?\n",
        "\n",
        "### Problem 2B (5 points)\n",
        "\n",
        "What determines the positive or negative correlations between the components ?\n",
        "\n",
        "### Problem 2C (10 points)\n",
        "\n",
        "Plot the projected vectors and show whether or not the projection agrees with the positive or negative correlations of the original matrix.\n",
        "\n"
      ]
    },
    {
      "cell_type": "code",
      "execution_count": null,
      "metadata": {
        "id": "fpurAY7EQ0WB"
      },
      "outputs": [],
      "source": [
        "# Insert your answer here and fee free to add markdown cells as needed"
      ]
    },
    {
      "cell_type": "markdown",
      "metadata": {
        "id": "LKvTyeeiQ0WC"
      },
      "source": [
        "### Problem 3: Stochastic Gradient Descent (30 points)\n",
        "\n",
        "In class we covered the baseline stochastic gradient descent.  Using the linear regression example from the class notes, develop from scratch the baseline SGD algorithm. :\n",
        "\n",
        "Clearly state the hyperparameters you used and present the loss vs epoch plot that demonstrates the convergence of the algorithm."
      ]
    },
    {
      "cell_type": "code",
      "execution_count": null,
      "metadata": {
        "id": "2gkMBZLHQ0WD"
      },
      "outputs": [],
      "source": [
        "# Insert your answer here and fee free to add markdown cells as needed"
      ]
    },
    {
      "cell_type": "markdown",
      "metadata": {
        "id": "Fe4bl6kQQ0WD"
      },
      "source": [
        "### Problem 4: SGD Enhancements (30 points)\n",
        "\n",
        "In this exercise you will implement some enhancements for the linear regression problem from scratch that can improve the convergence speed of the algorithm.\n",
        "\n",
        "1. Momentum (15 points)\n",
        "2. Adam (15 points)\n",
        "\n",
        "Clearly state the hyperparameters you used and present the loss vs epoch plot that demonstrates the convergence of each algorithm and compared to the baseline SGD algorithm. You can include all plots in the same figure."
      ]
    },
    {
      "cell_type": "code",
      "execution_count": null,
      "metadata": {
        "id": "lTt5md5LQ0WE"
      },
      "outputs": [],
      "source": [
        "# Insert your answer here and fee free to add markdown cells as needed"
      ]
    }
  ],
  "metadata": {
    "colab": {
      "provenance": []
    },
    "kernelspec": {
      "display_name": "Python 3",
      "language": "python",
      "name": "python3"
    },
    "language_info": {
      "codemirror_mode": {
        "name": "ipython",
        "version": 3
      },
      "file_extension": ".py",
      "mimetype": "text/x-python",
      "name": "python",
      "nbconvert_exporter": "python",
      "pygments_lexer": "ipython3",
      "version": "3.12.1"
    }
  },
  "nbformat": 4,
  "nbformat_minor": 0
}
